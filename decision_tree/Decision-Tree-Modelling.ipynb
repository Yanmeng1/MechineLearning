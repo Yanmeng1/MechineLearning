{
 "cells": [
  {
   "cell_type": "markdown",
   "metadata": {},
   "source": [
    "## 1.分类问题 - 预测注册用户"
   ]
  },
  {
   "cell_type": "code",
   "execution_count": 1,
   "metadata": {},
   "outputs": [],
   "source": [
    "# 网站来源，位置，是否读过FAQ，浏览网页数，选择服务类型\n",
    "data=[['slashdot','USA','yes',18,'None'],\n",
    "        ['google','France','yes',23,'Premium'],\n",
    "        ['digg','USA','yes',24,'Basic'],\n",
    "        ['kiwitobes','France','yes',23,'Basic'],\n",
    "        ['google','UK','no',21,'Premium'],\n",
    "        ['(direct)','New Zealand','no',12,'None'],\n",
    "        ['(direct)','UK','no',21,'Basic'],\n",
    "        ['google','USA','no',24,'Premium'],\n",
    "        ['slashdot','France','yes',19,'None'],\n",
    "        ['digg','USA','no',18,'None'],\n",
    "        ['google','UK','no',18,'None'],\n",
    "        ['kiwitobes','UK','no',19,'None'],\n",
    "        ['digg','New Zealand','yes',12,'Basic'],\n",
    "        ['slashdot','UK','no',21,'None'],\n",
    "        ['google','UK','yes',18,'Basic'],\n",
    "        ['kiwitobes','France','yes',19,'Basic']]"
   ]
  },
  {
   "cell_type": "markdown",
   "metadata": {},
   "source": [
    "### 1.1 引入决策树"
   ]
  },
  {
   "cell_type": "code",
   "execution_count": 2,
   "metadata": {},
   "outputs": [],
   "source": [
    "class DecisionNode:\n",
    "  def __init__(self,col=-1,value=None,leaf=None,tb=None,fb=None):\n",
    "    self.col=col\n",
    "    self.value=value\n",
    "    self.leaf=leaf\n",
    "    self.tb=tb\n",
    "    self.fb=fb"
   ]
  },
  {
   "cell_type": "markdown",
   "metadata": {},
   "source": [
    "### 1.2 拆分方案"
   ]
  },
  {
   "cell_type": "code",
   "execution_count": 3,
   "metadata": {},
   "outputs": [],
   "source": [
    "def divideSet(rows, column, value):\n",
    "    split_function = None\n",
    "    if isinstance(value, int) or isinstance(value, float):\n",
    "        split_function = lambda row : row[column] >= value\n",
    "    else:\n",
    "        split_function = lambda row : row[column] == value\n",
    "    \n",
    "    set1 = [row for row in rows if split_function(row)]\n",
    "    set2 = [row for row in rows if not split_function(row)]\n",
    "    return [set1, set2]"
   ]
  },
  {
   "cell_type": "code",
   "execution_count": 4,
   "metadata": {},
   "outputs": [
    {
     "data": {
      "text/plain": [
       "[[['slashdot', 'USA', 'yes', 18, 'None'],\n",
       "  ['google', 'France', 'yes', 23, 'Premium'],\n",
       "  ['digg', 'USA', 'yes', 24, 'Basic'],\n",
       "  ['kiwitobes', 'France', 'yes', 23, 'Basic'],\n",
       "  ['slashdot', 'France', 'yes', 19, 'None'],\n",
       "  ['digg', 'New Zealand', 'yes', 12, 'Basic'],\n",
       "  ['google', 'UK', 'yes', 18, 'Basic'],\n",
       "  ['kiwitobes', 'France', 'yes', 19, 'Basic']],\n",
       " [['google', 'UK', 'no', 21, 'Premium'],\n",
       "  ['(direct)', 'New Zealand', 'no', 12, 'None'],\n",
       "  ['(direct)', 'UK', 'no', 21, 'Basic'],\n",
       "  ['google', 'USA', 'no', 24, 'Premium'],\n",
       "  ['digg', 'USA', 'no', 18, 'None'],\n",
       "  ['google', 'UK', 'no', 18, 'None'],\n",
       "  ['kiwitobes', 'UK', 'no', 19, 'None'],\n",
       "  ['slashdot', 'UK', 'no', 21, 'None']]]"
      ]
     },
     "execution_count": 4,
     "metadata": {},
     "output_type": "execute_result"
    }
   ],
   "source": [
    "divideSet(data, 2, 'yes')"
   ]
  },
  {
   "cell_type": "code",
   "execution_count": 5,
   "metadata": {},
   "outputs": [],
   "source": [
    "# 统计label的种类分布，据此计算不纯度\n",
    "def uniqueCounts(rows, column):\n",
    "    values_count = {}\n",
    "    for row in rows:\n",
    "        value = row[column]    # label = row[len(row)-1]\n",
    "        if value not in values_count:\n",
    "            values_count[value] = 0\n",
    "        values_count[value] += 1\n",
    "    return values_count"
   ]
  },
  {
   "cell_type": "code",
   "execution_count": 6,
   "metadata": {},
   "outputs": [],
   "source": [
    "# 基尼不纯度,是指将来自集合中的某种结果随机应用在集合中，某一数据项的预期误差率。\n",
    "def giniImpurity(rows, column=-1):\n",
    "    total = len(rows)\n",
    "    values_count = uniqueCounts(rows,column)\n",
    "    impurity = 0.0\n",
    "    for value1 in values_count:\n",
    "        p1 = float(values_count[value1]) / total\n",
    "        p2 = 0.0\n",
    "        for value2 in values_count:\n",
    "            if value1 == value2:\n",
    "                continue\n",
    "            p2 += values_count[value2] / total\n",
    "        impurity += (p1 * p2)\n",
    "    return impurity"
   ]
  },
  {
   "cell_type": "code",
   "execution_count": 7,
   "metadata": {},
   "outputs": [],
   "source": [
    "def entropy(rows,column=-1):\n",
    "    from math import log\n",
    "    log2 = lambda x:log(x)/log(2)\n",
    "    values_count = uniqueCounts(rows,column)\n",
    "    ent = 0.0\n",
    "    for value in values_count.keys():\n",
    "        p = float(values_count[value]) / len(rows)\n",
    "        ent -= p * log2(p)\n",
    "    return ent"
   ]
  },
  {
   "cell_type": "code",
   "execution_count": 8,
   "metadata": {},
   "outputs": [
    {
     "data": {
      "text/plain": [
       "0.6328125"
      ]
     },
     "execution_count": 8,
     "metadata": {},
     "output_type": "execute_result"
    }
   ],
   "source": [
    "giniImpurity(data,-1)"
   ]
  },
  {
   "cell_type": "code",
   "execution_count": 9,
   "metadata": {},
   "outputs": [
    {
     "data": {
      "text/plain": [
       "1.5052408149441479"
      ]
     },
     "execution_count": 9,
     "metadata": {},
     "output_type": "execute_result"
    }
   ],
   "source": [
    "entropy(data,-1)"
   ]
  },
  {
   "cell_type": "code",
   "execution_count": 10,
   "metadata": {},
   "outputs": [],
   "source": [
    "set1, set2 = divideSet(data, 2, 'yes')"
   ]
  },
  {
   "cell_type": "code",
   "execution_count": 11,
   "metadata": {},
   "outputs": [
    {
     "data": {
      "text/plain": [
       "1.2987949406953985"
      ]
     },
     "execution_count": 11,
     "metadata": {},
     "output_type": "execute_result"
    }
   ],
   "source": [
    "entropy(set1,-1)"
   ]
  },
  {
   "cell_type": "code",
   "execution_count": 12,
   "metadata": {},
   "outputs": [
    {
     "data": {
      "text/plain": [
       "0.53125"
      ]
     },
     "execution_count": 12,
     "metadata": {},
     "output_type": "execute_result"
    }
   ],
   "source": [
    "giniImpurity(set1,-1)"
   ]
  },
  {
   "cell_type": "markdown",
   "metadata": {},
   "source": [
    "### 1.3 以递归方式构造树"
   ]
  },
  {
   "cell_type": "code",
   "execution_count": 13,
   "metadata": {},
   "outputs": [],
   "source": [
    "def buildTree(rows, impurity=entropy, gainRatio=False):\n",
    "    if len(rows) == 0:\n",
    "        return DecisionNode()\n",
    "    currentImpurity = impurity(rows)\n",
    "    bestGain = 0.0\n",
    "    bestCriteria = None\n",
    "    bestSets = None\n",
    "    columnCount = len(rows[0]) - 1\n",
    "    for col in range(0, columnCount):\n",
    "        columnEntropy = 1.0\n",
    "        if gainRatio:\n",
    "            columnEntropy = impurity(rows, col)\n",
    "            print(str(col) + ' 属性熵:' +str(columnEntropy))\n",
    "        colValues = set()\n",
    "        for row in rows:\n",
    "            colValues.add(row[col])\n",
    "        for value in colValues:\n",
    "            (set1, set2) = divideSet(rows, col, value)\n",
    "            p = float(len(set1)) / len(rows)\n",
    "            nextImpurity = (p * impurity(set1)) + ((1 - p) * impurity(set2))\n",
    "            gain = currentImpurity - nextImpurity\n",
    "            if gainRatio:\n",
    "                gain = gain / columnEntropy                \n",
    "            if gain > bestGain and len(set1) > 0 and len(set2) > 0:\n",
    "                bestGain = gain\n",
    "                bestCriteria = (col, value)\n",
    "                bestSets = (set1, set2)\n",
    "    if bestGain > 0:\n",
    "        trueBranch = buildTree(rows=bestSets[0], impurity=impurity)\n",
    "        falseBranch = buildTree(rows=bestSets[1], impurity=impurity)\n",
    "        return DecisionNode(col=bestCriteria[0], value=bestCriteria[1], tb=trueBranch, fb=falseBranch)\n",
    "    else:\n",
    "        return DecisionNode(leaf=uniqueCounts(rows,column=-1)) "
   ]
  },
  {
   "cell_type": "markdown",
   "metadata": {},
   "source": [
    "### 1.4 显示树"
   ]
  },
  {
   "cell_type": "code",
   "execution_count": 14,
   "metadata": {},
   "outputs": [],
   "source": [
    "def printTree(node, indent=' '):\n",
    "    if node.leaf != None:\n",
    "        print(str(node.leaf))\n",
    "    else:\n",
    "        print(indent + str(node.col) + ' : ' + str(node.value) + ' ?')\n",
    "        print(indent + 'T ->', printTree(node.tb, indent + ' '))\n",
    "        print(indent + 'F ->', printTree(node.fb, indent + ' '))"
   ]
  },
  {
   "cell_type": "code",
   "execution_count": 15,
   "metadata": {},
   "outputs": [
    {
     "name": "stdout",
     "output_type": "stream",
     "text": [
      "0 属性熵:2.257856063692049\n",
      "1 属性熵:1.9056390622295662\n",
      "2 属性熵:1.0\n",
      "3 属性熵:2.5306390622295662\n",
      " 2 : yes ?\n",
      "  0 : slashdot ?\n",
      "{'None': 2}\n",
      "  T -> None\n",
      "   0 : google ?\n",
      "    1 : UK ?\n",
      "{'Basic': 1}\n",
      "    T -> None\n",
      "{'Premium': 1}\n",
      "    F -> None\n",
      "   T -> None\n",
      "{'Basic': 4}\n",
      "   F -> None\n",
      "  F -> None\n",
      " T -> None\n",
      "  3 : 21 ?\n",
      "   0 : google ?\n",
      "{'Premium': 2}\n",
      "   T -> None\n",
      "    0 : slashdot ?\n",
      "{'None': 1}\n",
      "    T -> None\n",
      "{'Basic': 1}\n",
      "    F -> None\n",
      "   F -> None\n",
      "  T -> None\n",
      "{'None': 4}\n",
      "  F -> None\n",
      " F -> None\n"
     ]
    }
   ],
   "source": [
    "printTree(buildTree(data,gainRatio=True))"
   ]
  },
  {
   "cell_type": "code",
   "execution_count": 16,
   "metadata": {},
   "outputs": [],
   "source": [
    "# 一个分支的总宽度等于所有子宽度之和，没有子分支的话，宽度为1\n",
    "def getWidth(tree):\n",
    "    if tree.tb == None and tree.fb == None:\n",
    "        return 1\n",
    "    return getWidth(tree.tb) + getWidth(tree.fb)\n",
    "def getHeight(tree):\n",
    "    if tree.tb == None and tree.tb == None:\n",
    "        return 0\n",
    "    return max(getHeight(tree.tb), getHeight(tree.fb)) + 1"
   ]
  },
  {
   "cell_type": "code",
   "execution_count": 41,
   "metadata": {},
   "outputs": [],
   "source": [
    "from PIL import Image, ImageDraw\n",
    "\n",
    "def drawNode(draw, node, x, y):\n",
    "    if node.leaf == None:\n",
    "        w1 = getWidth(node.fb) * 100\n",
    "        w2 = getWidth(node.tb) * 100\n",
    "        left = x - (w1+w2)/2\n",
    "        right = x + (w1+w2)/2\n",
    "        draw.text((x-20,y-20), str(node.col)+':'+str(node.value), (0,0,0))\n",
    "        draw.line((x,y, left+w1/2,y+75), fill=(255,0,0))\n",
    "        draw.line((x,y, right-w2/2,y+75), fill=(0,255,0))\n",
    "        drawNode(draw, node.fb, left+w1/2, y+100)\n",
    "        drawNode(draw, node.tb, right-w2/2, y+100)\n",
    "    else:\n",
    "        for item in node.leaf.items():\n",
    "            print('%s:%d'%item)\n",
    "        txt=' \\n'.join(['%s:%d'%v for v in node.leaf.items()])\n",
    "        draw.text((x-20,y-20),txt,(0,0,0))\n",
    "def drawTree(tree, jpeg='tree.jpg'):\n",
    "    w = getWidth(tree) * 100\n",
    "    h = getHeight(tree) * 100 + 120\n",
    "    image = Image.new('RGB',(w,h),(255,255,255))\n",
    "    draw = ImageDraw.Draw(image)\n",
    "    drawNode(draw, tree, w/2, 20)\n",
    "    image.save(jpeg, 'JPEG')"
   ]
  },
  {
   "cell_type": "code",
   "execution_count": 42,
   "metadata": {},
   "outputs": [
    {
     "name": "stdout",
     "output_type": "stream",
     "text": [
      "None:3\n",
      "Basic:1\n",
      "Basic:4\n",
      "None:3\n",
      "None:1\n",
      "Basic:1\n",
      "Premium:3\n"
     ]
    }
   ],
   "source": [
    "drawTree(buildTree(data,gainRatio=False), jpeg='treeview.jpg')"
   ]
  },
  {
   "cell_type": "markdown",
   "metadata": {},
   "source": [
    "### 1.5 对新的观察数据进行分类"
   ]
  },
  {
   "cell_type": "code",
   "execution_count": 43,
   "metadata": {},
   "outputs": [],
   "source": [
    "def classify(observation, tree):\n",
    "    if tree.leaf != None:\n",
    "        return tree.leaf\n",
    "    else:\n",
    "        value = observation[tree.col]\n",
    "        branch = None\n",
    "        if isinstance(value, int) or isinstance(value, float):\n",
    "            if value >= tree.value:\n",
    "                branch = tree.tb\n",
    "            else:\n",
    "                branch = tree.fb\n",
    "        else:\n",
    "            if value == tree.value:\n",
    "                branch = tree.tb\n",
    "            else:\n",
    "                branch = tree.fb\n",
    "        return classify(observation, branch)"
   ]
  },
  {
   "cell_type": "code",
   "execution_count": 65,
   "metadata": {},
   "outputs": [],
   "source": [
    "tree = buildTree(data)"
   ]
  },
  {
   "cell_type": "code",
   "execution_count": 66,
   "metadata": {},
   "outputs": [
    {
     "data": {
      "text/plain": [
       "{'Basic': 4}"
      ]
     },
     "execution_count": 66,
     "metadata": {},
     "output_type": "execute_result"
    }
   ],
   "source": [
    "classify(['(direct)','USA','yes',5], tree)"
   ]
  },
  {
   "cell_type": "markdown",
   "metadata": {},
   "source": [
    "### 1.6 剪枝 Pruning the Tree"
   ]
  },
  {
   "cell_type": "code",
   "execution_count": 67,
   "metadata": {},
   "outputs": [],
   "source": [
    "def prune(tree, minGain):\n",
    "    if tree.tb.leaf == None:\n",
    "        prune(tree.tb, minGain)\n",
    "    if tree.fb.leaf == None:\n",
    "        prune(tree.fb, minGain)\n",
    "    if tree.tb.leaf != None and tree.fb.leaf != None:\n",
    "        tb, fb = [], []\n",
    "        for v,c in tree.tb.leaf.items():\n",
    "            tb += [[v]] * c\n",
    "            print('[[v]] * c : ',[[v]] * c)\n",
    "            print('tb += [[v]] * c : ', tb)\n",
    "        for v,c in tree.fb.leaf.items():\n",
    "            fb += [[v]] * c\n",
    "        \n",
    "        tp = float(len(tb)) / (len(tb) + len(fb)) \n",
    "        gain = entropy(tb+fb) - (tp*entropy(tb) + (1-tp)*entropy(fb))\n",
    "        if gain < minGain:\n",
    "            tree.tb, tree.fb = None, None\n",
    "            tree.leaf = uniqueCounts(tb+fb, -1)"
   ]
  },
  {
   "cell_type": "code",
   "execution_count": 68,
   "metadata": {},
   "outputs": [
    {
     "name": "stdout",
     "output_type": "stream",
     "text": [
      "[[v]] * c :  [['Basic']]\n",
      "tb += [[v]] * c :  [['Basic']]\n",
      "[[v]] * c :  [['Basic']]\n",
      "tb += [[v]] * c :  [['Basic']]\n",
      "[[v]] * c :  [['Basic'], ['Basic'], ['Basic'], ['Basic']]\n",
      "tb += [[v]] * c :  [['Basic'], ['Basic'], ['Basic'], ['Basic']]\n",
      "[[v]] * c :  [['None'], ['None'], ['None']]\n",
      "tb += [[v]] * c :  [['None'], ['None'], ['None']]\n"
     ]
    }
   ],
   "source": [
    "tree2 = buildTree(data)\n",
    "prune(tree2, 1)"
   ]
  },
  {
   "cell_type": "code",
   "execution_count": 69,
   "metadata": {},
   "outputs": [
    {
     "name": "stdout",
     "output_type": "stream",
     "text": [
      "None:6\n",
      "Basic:5\n",
      "None:1\n",
      "Basic:1\n",
      "Premium:3\n"
     ]
    }
   ],
   "source": [
    "drawTree(tree2, jpeg='treeviewPrune.jpg')"
   ]
  },
  {
   "cell_type": "markdown",
   "metadata": {},
   "source": [
    "### 1.7 处理缺失数据(Dealing with missing data)"
   ]
  },
  {
   "cell_type": "code",
   "execution_count": 70,
   "metadata": {},
   "outputs": [],
   "source": [
    "def missDataClassify(observation, tree):\n",
    "    if tree.leaf != None:\n",
    "        return tree.leaf\n",
    "    else:\n",
    "        value = observation[tree.col]\n",
    "        if value != None:\n",
    "            branch = None\n",
    "            if isinstance(value, int) or isinstance(value, float):\n",
    "                if value >= tree.value:\n",
    "                    branch = tree.tb\n",
    "                else:\n",
    "                    branch = tree.fb\n",
    "            else:\n",
    "                if value == tree.value:\n",
    "                    branch = tree.tb\n",
    "                else:\n",
    "                    branch = tree.fb\n",
    "            return missDataClassify(observation, branch)\n",
    "        else:\n",
    "            tb_leafs, fb_leafs = missDataClassify(observation, tree.tb), missDataClassify(observation, tree.fb)\n",
    "            tb_count = sum(tb_leafs.values())\n",
    "            fb_count = sum(fb_leafs.values())\n",
    "            total_count = tb_count + fb_count\n",
    "            tb_weight = tb_count / total_count\n",
    "            fb_weight = fb_count / total_count\n",
    "            leafs = {}\n",
    "            for v,c in tb_leafs.items():\n",
    "                leafs[v] = tb_weight * c\n",
    "            for v,c in fb_leafs.items():\n",
    "                if v not in leafs:\n",
    "                    leafs[v] = 0\n",
    "                leafs[v] += fb_weight * c\n",
    "            return leafs"
   ]
  },
  {
   "cell_type": "code",
   "execution_count": 72,
   "metadata": {},
   "outputs": [
    {
     "data": {
      "text/plain": [
       "{'Premium': 2.25, 'Basic': 0.25}"
      ]
     },
     "execution_count": 72,
     "metadata": {},
     "output_type": "execute_result"
    }
   ],
   "source": [
    "tree = buildTree(data)\n",
    "missDataClassify(['google', None, 'yes', None], tree2)"
   ]
  },
  {
   "cell_type": "code",
   "execution_count": 73,
   "metadata": {},
   "outputs": [
    {
     "data": {
      "text/plain": [
       "{'Premium': 2.25, 'Basic': 0.125, 'None': 0.125}"
      ]
     },
     "execution_count": 73,
     "metadata": {},
     "output_type": "execute_result"
    }
   ],
   "source": [
    "missDataClassify(['google', 'France', None, None], tree)"
   ]
  },
  {
   "cell_type": "markdown",
   "metadata": {},
   "source": [
    "## 2. 回归问题 - 对住房价格进行建模\n",
    "- 使用方差作为评价函数代替熵或基尼不纯度\n",
    "- 拆分条件：拆分之后另数字较大的位于树的一侧，数字较小的位于树的另一侧，便可可以降低分支的整体方差"
   ]
  },
  {
   "cell_type": "code",
   "execution_count": 74,
   "metadata": {},
   "outputs": [],
   "source": [
    "def variance(rows, column=-1):\n",
    "    if len(rows)==0:\n",
    "        return 0\n",
    "    yData = [float(row[column]) for row in rows]\n",
    "    mean = sum(yData) / len(yData) \n",
    "    var = sum([(d - mean)**2 for d in yData]) / len(yData)\n",
    "    return var"
   ]
  },
  {
   "cell_type": "markdown",
   "metadata": {},
   "source": [
    "### 可以尝试爬取链家网，对住房价格进行建模\n",
    "### 或者可以对股票价格进行建模"
   ]
  },
  {
   "cell_type": "code",
   "execution_count": null,
   "metadata": {},
   "outputs": [],
   "source": []
  },
  {
   "cell_type": "markdown",
   "metadata": {},
   "source": [
    "## 2. 模拟sklean构建一个决策树模型"
   ]
  },
  {
   "cell_type": "code",
   "execution_count": 1,
   "metadata": {},
   "outputs": [],
   "source": [
    "from collections import Counter\n",
    "from math import log\n",
    "import numpy as np\n",
    "\n",
    "class TreeModelClassifier:\n",
    "    def __init__(self, criterion='entropy', max_depth=20):\n",
    "        def entropy(y):\n",
    "            counter = Counter(y)\n",
    "            res = 0.0\n",
    "            for num in counter.values():\n",
    "                p = num / len(y)\n",
    "                res += -p * log(p)\n",
    "            return res\n",
    "        self.criterion = eval(criterion)\n",
    "        self.rootNode = None\n",
    "        self.maxDepth = max_depth\n",
    "        self.countDepth = -1\n",
    "\n",
    "    def fit(self, X, y):\n",
    "        assert len(X) > 0 and len(X) == len(y), 'The X or y must be valid.'\n",
    "        X = np.array(X)\n",
    "        y = np.array(y)\n",
    "        self.rootNode = self._constructTree(X, y)\n",
    "        return self\n",
    "\n",
    "    def predict(self, X):\n",
    "        assert self.rootNode is not None, 'must fit before predict.'\n",
    "        assert len(X) > 0, 'len(X) should > 0.'\n",
    "        y_predict = [self._predict(x) for x in X]\n",
    "        return np.array(y_predict)\n",
    "\n",
    "    class Node:\n",
    "        def __init__(self, col=-1, value=None, leaf=None, trueBranch=None, falseBranch=None):\n",
    "            self.col = col\n",
    "            self.value = value\n",
    "            self.leaf = leaf\n",
    "            self.trueBranch = trueBranch\n",
    "            self.falseBranch = falseBranch\n",
    "\n",
    "    def _divideData(self, X_column, value):\n",
    "        splitFn = None\n",
    "        if isinstance(value, int) or isinstance(value, float):\n",
    "            splitFn = lambda x : x >= value\n",
    "        else:\n",
    "            splitFn = lambda x : x == value\n",
    "        trueIndex = [i for i in range(0, len(X_column)) if splitFn(X_column[i])]\n",
    "        falseIndex = [i for i in range(0, len(X_column)) if not splitFn(X_column[i])]\n",
    "        return (trueIndex, falseIndex)\n",
    "\n",
    "    def _constructTree(self, X_, y_):\n",
    "        assert len(X_) == len(y_), 'len(X), len(y) must be equal.'\n",
    "        if len(X_) == 0: return TreeModelClassifier.Node()\n",
    "        self.countDepth += 1\n",
    "        currentImpurity = self.criterion(y_)\n",
    "        bestGain, bestSplits, bestIndexes = 0, None, None\n",
    "        for col in range(0, len(X_[0])):\n",
    "            colCounter = Counter(X_[:,col])\n",
    "            for value in colCounter:\n",
    "                (trueIndex, falseIndex) = self._divideData(X_[:,col], value)\n",
    "                trueProb = float(len(trueIndex)) / len(X_)\n",
    "                nextImpurity = trueProb * self.criterion(y_[trueIndex]) \\\n",
    "                               + (1-trueProb) * self.criterion(y_[falseIndex])\n",
    "                gain = currentImpurity - nextImpurity\n",
    "                if gain > bestGain and len(trueIndex) > 0 and len(falseIndex) > 0:\n",
    "                    bestGain, bestSplits, bestIndexes = gain, (col, value), (trueIndex, falseIndex)\n",
    "        if bestGain > 0 and len(bestIndexes[0]) > 0 and len(bestIndexes[1]) > 0 and self.countDepth < self.maxDepth:\n",
    "            trueBranch = self._constructTree(X_[bestIndexes[0]].copy(), y_[bestIndexes[0]].copy())\n",
    "            falseBranch = self._constructTree(X_[bestIndexes[1]].copy(), y_[bestIndexes[1]].copy())\n",
    "            return TreeModelClassifier.Node(col=bestSplits[0], value=bestSplits[1], trueBranch=trueBranch, falseBranch=falseBranch)\n",
    "        else:\n",
    "            return TreeModelClassifier.Node(leaf=Counter(y_))\n",
    "\n",
    "    def _predict(self, x):\n",
    "        tree = self.rootNode\n",
    "        leafCounter = self._classify(x, tree)\n",
    "        return leafCounter.most_common(1)[0][0]\n",
    "\n",
    "    def _classify(self, x, tree):\n",
    "        if tree.leaf != None: return tree.leaf\n",
    "        else:\n",
    "            value = x[tree.col]\n",
    "            branch = None\n",
    "            if isinstance(value, int) or isinstance(value, float):\n",
    "                if value >= tree.value: branch = tree.trueBranch\n",
    "                else: branch = tree.falseBranch\n",
    "            else:\n",
    "                if value == tree.value: branch == tree.trueBranch\n",
    "                else: branch = tree.falseBranch\n",
    "            return self._classify(x, branch)"
   ]
  },
  {
   "cell_type": "code",
   "execution_count": 2,
   "metadata": {},
   "outputs": [],
   "source": [
    "def plot_decision_boundary(model, axis):\n",
    "    x0, x1 = np.meshgrid(\n",
    "        np.linspace(axis[0], axis[1], int((axis[1]-axis[0])*100)).reshape(-1, 1),\n",
    "        np.linspace(axis[2], axis[3], int((axis[3]-axis[2])*100)).reshape(-1, 1),\n",
    "    )\n",
    "    X_new = np.c_[x0.ravel(), x1.ravel()]\n",
    "    y_predict = model.predict(X_new)\n",
    "    zz = y_predict.reshape(x0.shape)\n",
    "    from matplotlib.colors import ListedColormap\n",
    "    custom_cmap = ListedColormap(['#EF9A9A','#FFF59D','#90CAF9'])\n",
    "    plt.contourf(x0, x1, zz, cmap=custom_cmap)"
   ]
  },
  {
   "cell_type": "code",
   "execution_count": 4,
   "metadata": {},
   "outputs": [
    {
     "data": {
      "image/png": "[encoded data removed]",
      "text/plain": [
       "<Figure size 432x288 with 1 Axes>"
      ]
     },
     "metadata": {
      "needs_background": "light"
     },
     "output_type": "display_data"
    }
   ],
   "source": [
    "import matplotlib.pyplot as plt\n",
    "from sklearn import datasets\n",
    "iris = datasets.load_iris()\n",
    "X = iris.data[:,2:]\n",
    "y = iris.target\n",
    "plt.scatter(X[y==0,0], X[y==0,1])\n",
    "plt.scatter(X[y==1,0], X[y==1,1])\n",
    "plt.scatter(X[y==2,0], X[y==2,1])\n",
    "plt.show()"
   ]
  },
  {
   "cell_type": "code",
   "execution_count": 5,
   "metadata": {},
   "outputs": [
    {
     "data": {
      "image/png": "[encoded data removed]",
      "text/plain": [
       "<Figure size 432x288 with 1 Axes>"
      ]
     },
     "metadata": {
      "needs_background": "light"
     },
     "output_type": "display_data"
    }
   ],
   "source": [
    "from sklearn.tree import DecisionTreeClassifier\n",
    "dt_clf = DecisionTreeClassifier(max_depth=2, criterion=\"entropy\")\n",
    "dt_clf.fit(X, y)\n",
    "plot_decision_boundary(dt_clf, axis=[0.5, 7.5, 0, 3])\n",
    "plt.scatter(X[y==0,0], X[y==0,1])\n",
    "plt.scatter(X[y==1,0], X[y==1,1])\n",
    "plt.scatter(X[y==2,0], X[y==2,1])\n",
    "plt.show()"
   ]
  },
  {
   "cell_type": "code",
   "execution_count": 6,
   "metadata": {},
   "outputs": [
    {
     "data": {
      "image/png": "[encoded data removed]",
      "text/plain": [
       "<Figure size 432x288 with 1 Axes>"
      ]
     },
     "metadata": {
      "needs_background": "light"
     },
     "output_type": "display_data"
    }
   ],
   "source": [
    "clt = TreeModelClassifier(max_depth=2)\n",
    "clt.fit(X, y)\n",
    "plot_decision_boundary(clt, axis=[0.5, 7.5, 0, 3])\n",
    "plt.scatter(X[y==0,0], X[y==0,1])\n",
    "plt.scatter(X[y==1,0], X[y==1,1])\n",
    "plt.scatter(X[y==2,0], X[y==2,1])\n",
    "plt.show()"
   ]
  },
  {
   "cell_type": "code",
   "execution_count": 7,
   "metadata": {},
   "outputs": [
    {
     "data": {
      "image/png": "[encoded data removed]",
      "text/plain": [
       "<Figure size 432x288 with 1 Axes>"
      ]
     },
     "metadata": {
      "needs_background": "light"
     },
     "output_type": "display_data"
    }
   ],
   "source": [
    "from sklearn import datasets\n",
    "X, y = datasets.make_moons(noise=0.25, random_state=666)\n",
    "plt.scatter(X[y==0,0], X[y==0,1])\n",
    "plt.scatter(X[y==1,0], X[y==1,1])\n",
    "plt.show()"
   ]
  },
  {
   "cell_type": "code",
   "execution_count": 17,
   "metadata": {},
   "outputs": [
    {
     "data": {
      "image/png": "[encoded data removed]",
      "text/plain": [
       "<Figure size 432x288 with 1 Axes>"
      ]
     },
     "metadata": {
      "needs_background": "light"
     },
     "output_type": "display_data"
    }
   ],
   "source": [
    "from sklearn.tree import DecisionTreeClassifier\n",
    "dt_clf = DecisionTreeClassifier()\n",
    "dt_clf.fit(X, y)\n",
    "plot_decision_boundary(dt_clf, axis=[-1.5,2.5,-1.0,1.5])\n",
    "plt.scatter(X[y==0,0], X[y==0,1])\n",
    "plt.scatter(X[y==1,0], X[y==1,1])\n",
    "plt.show()"
   ]
  },
  {
   "cell_type": "code",
   "execution_count": 16,
   "metadata": {},
   "outputs": [
    {
     "data": {
      "image/png": "[encoded data removed]",
      "text/plain": [
       "<Figure size 432x288 with 1 Axes>"
      ]
     },
     "metadata": {
      "needs_background": "light"
     },
     "output_type": "display_data"
    }
   ],
   "source": [
    "clt1 = TreeModelClassifier()\n",
    "clt1.fit(X, y)\n",
    "plotDecisionBoundary(clt1, axis=[-1.5,2.5,-1.0,1.5])\n",
    "plt.scatter(X[y==0,0], X[y==0,1])\n",
    "plt.scatter(X[y==1,0], X[y==1,1])\n",
    "plt.show()"
   ]
  },
  {
   "cell_type": "code",
   "execution_count": null,
   "metadata": {},
   "outputs": [],
   "source": []
  }
 ],
 "metadata": {
  "kernelspec": {
   "display_name": "Python 3",
   "language": "python",
   "name": "python3"
  },
  "language_info": {
   "codemirror_mode": {
    "name": "ipython",
    "version": 3
   },
   "file_extension": ".py",
   "mimetype": "text/x-python",
   "name": "python",
   "nbconvert_exporter": "python",
   "pygments_lexer": "ipython3",
   "version": "3.7.3"
  }
 },
 "nbformat": 4,
 "nbformat_minor": 2
}
