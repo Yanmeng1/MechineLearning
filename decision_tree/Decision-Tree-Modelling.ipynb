{
 "cells": [
  {
   "cell_type": "markdown",
   "metadata": {},
   "source": [
    "## 1. 预测注册用户"
   ]
  },
  {
   "cell_type": "code",
   "execution_count": 1,
   "metadata": {},
   "outputs": [],
   "source": [
    "# 网站来源，位置，是否读过FAQ，浏览网页数，选择服务类型\n",
    "data=[['slashdot','USA','yes',18,'None'],\n",
    "        ['google','France','yes',23,'Premium'],\n",
    "        ['digg','USA','yes',24,'Basic'],\n",
    "        ['kiwitobes','France','yes',23,'Basic'],\n",
    "        ['google','UK','no',21,'Premium'],\n",
    "        ['(direct)','New Zealand','no',12,'None'],\n",
    "        ['(direct)','UK','no',21,'Basic'],\n",
    "        ['google','USA','no',24,'Premium'],\n",
    "        ['slashdot','France','yes',19,'None'],\n",
    "        ['digg','USA','no',18,'None'],\n",
    "        ['google','UK','no',18,'None'],\n",
    "        ['kiwitobes','UK','no',19,'None'],\n",
    "        ['digg','New Zealand','yes',12,'Basic'],\n",
    "        ['slashdot','UK','no',21,'None'],\n",
    "        ['google','UK','yes',18,'Basic'],\n",
    "        ['kiwitobes','France','yes',19,'Basic']]"
   ]
  },
  {
   "cell_type": "markdown",
   "metadata": {},
   "source": [
    "### 1.1 引入决策树"
   ]
  },
  {
   "cell_type": "code",
   "execution_count": 2,
   "metadata": {},
   "outputs": [],
   "source": [
    "class DecisionNode:\n",
    "  def __init__(self,col=-1,value=None,leaf=None,tb=None,fb=None):\n",
    "    self.col=col\n",
    "    self.value=value\n",
    "    self.leaf=leaf\n",
    "    self.tb=tb\n",
    "    self.fb=fb"
   ]
  },
  {
   "cell_type": "markdown",
   "metadata": {},
   "source": [
    "### 1.2 拆分方案"
   ]
  },
  {
   "cell_type": "code",
   "execution_count": 3,
   "metadata": {},
   "outputs": [],
   "source": [
    "def divideSet(rows, column, value):\n",
    "    split_function = None\n",
    "    if isinstance(value, int) or isinstance(value, float):\n",
    "        split_function = lambda row : row[column] >= value\n",
    "    else:\n",
    "        split_function = lambda row : row[column] == value\n",
    "    \n",
    "    set1 = [row for row in rows if split_function(row)]\n",
    "    set2 = [row for row in rows if not split_function(row)]\n",
    "    return [set1, set2]"
   ]
  },
  {
   "cell_type": "code",
   "execution_count": 4,
   "metadata": {},
   "outputs": [
    {
     "data": {
      "text/plain": [
       "[[['slashdot', 'USA', 'yes', 18, 'None'],\n",
       "  ['google', 'France', 'yes', 23, 'Premium'],\n",
       "  ['digg', 'USA', 'yes', 24, 'Basic'],\n",
       "  ['kiwitobes', 'France', 'yes', 23, 'Basic'],\n",
       "  ['slashdot', 'France', 'yes', 19, 'None'],\n",
       "  ['digg', 'New Zealand', 'yes', 12, 'Basic'],\n",
       "  ['google', 'UK', 'yes', 18, 'Basic'],\n",
       "  ['kiwitobes', 'France', 'yes', 19, 'Basic']],\n",
       " [['google', 'UK', 'no', 21, 'Premium'],\n",
       "  ['(direct)', 'New Zealand', 'no', 12, 'None'],\n",
       "  ['(direct)', 'UK', 'no', 21, 'Basic'],\n",
       "  ['google', 'USA', 'no', 24, 'Premium'],\n",
       "  ['digg', 'USA', 'no', 18, 'None'],\n",
       "  ['google', 'UK', 'no', 18, 'None'],\n",
       "  ['kiwitobes', 'UK', 'no', 19, 'None'],\n",
       "  ['slashdot', 'UK', 'no', 21, 'None']]]"
      ]
     },
     "execution_count": 4,
     "metadata": {},
     "output_type": "execute_result"
    }
   ],
   "source": [
    "divideSet(data, 2, 'yes')"
   ]
  },
  {
   "cell_type": "code",
   "execution_count": 5,
   "metadata": {},
   "outputs": [],
   "source": [
    "# 统计label的种类分布，据此计算不纯度\n",
    "def uniqueCounts(rows, column):\n",
    "    values_count = {}\n",
    "    for row in rows:\n",
    "        value = row[column]    # label = row[len(row)-1]\n",
    "        if value not in values_count:\n",
    "            values_count[value] = 0\n",
    "        values_count[value] += 1\n",
    "    return values_count"
   ]
  },
  {
   "cell_type": "code",
   "execution_count": 6,
   "metadata": {},
   "outputs": [],
   "source": [
    "# 基尼不纯度,是指将来自集合中的某种结果随机应用在集合中，某一数据项的预期误差率。\n",
    "def giniImpurity(rows, column=-1):\n",
    "    total = len(rows)\n",
    "    values_count = uniqueCounts(rows,column)\n",
    "    impurity = 0.0\n",
    "    for value1 in values_count:\n",
    "        p1 = float(values_count[value1]) / total\n",
    "        p2 = 0.0\n",
    "        for value2 in values_count:\n",
    "            if value1 == value2:\n",
    "                continue\n",
    "            p2 += values_count[value2] / total\n",
    "        impurity += (p1 * p2)\n",
    "    return impurity"
   ]
  },
  {
   "cell_type": "code",
   "execution_count": 7,
   "metadata": {},
   "outputs": [],
   "source": [
    "def entropy(rows,column=-1):\n",
    "    from math import log\n",
    "    log2 = lambda x:log(x)/log(2)\n",
    "    values_count = uniqueCounts(rows,column)\n",
    "    ent = 0.0\n",
    "    for value in values_count.keys():\n",
    "        p = float(values_count[value]) / len(rows)\n",
    "        ent -= p * log2(p)\n",
    "    return ent"
   ]
  },
  {
   "cell_type": "code",
   "execution_count": 8,
   "metadata": {},
   "outputs": [
    {
     "data": {
      "text/plain": [
       "0.6328125"
      ]
     },
     "execution_count": 8,
     "metadata": {},
     "output_type": "execute_result"
    }
   ],
   "source": [
    "giniImpurity(data,-1)"
   ]
  },
  {
   "cell_type": "code",
   "execution_count": 9,
   "metadata": {},
   "outputs": [
    {
     "data": {
      "text/plain": [
       "1.5052408149441479"
      ]
     },
     "execution_count": 9,
     "metadata": {},
     "output_type": "execute_result"
    }
   ],
   "source": [
    "entropy(data,-1)"
   ]
  },
  {
   "cell_type": "code",
   "execution_count": 10,
   "metadata": {},
   "outputs": [],
   "source": [
    "set1, set2 = divideSet(data, 2, 'yes')"
   ]
  },
  {
   "cell_type": "code",
   "execution_count": 11,
   "metadata": {},
   "outputs": [
    {
     "data": {
      "text/plain": [
       "1.2987949406953985"
      ]
     },
     "execution_count": 11,
     "metadata": {},
     "output_type": "execute_result"
    }
   ],
   "source": [
    "entropy(set1,-1)"
   ]
  },
  {
   "cell_type": "code",
   "execution_count": 12,
   "metadata": {},
   "outputs": [
    {
     "data": {
      "text/plain": [
       "0.53125"
      ]
     },
     "execution_count": 12,
     "metadata": {},
     "output_type": "execute_result"
    }
   ],
   "source": [
    "giniImpurity(set1,-1)"
   ]
  },
  {
   "cell_type": "markdown",
   "metadata": {},
   "source": [
    "### 1.3 以递归方式构造树"
   ]
  },
  {
   "cell_type": "code",
   "execution_count": 13,
   "metadata": {},
   "outputs": [],
   "source": [
    "def buildTree(rows, impurity=entropy, gainRatio=False):\n",
    "    if len(rows) == 0:\n",
    "        return DecisionNode()\n",
    "    currentImpurity = impurity(rows)\n",
    "    bestGain = 0.0\n",
    "    bestCriteria = None\n",
    "    bestSets = None\n",
    "    columnCount = len(rows[0]) - 1\n",
    "    for col in range(0, columnCount):\n",
    "        columnEntropy = 1.0\n",
    "        if gainRatio:\n",
    "            columnEntropy = impurity(rows, col)\n",
    "            print(str(col) + ' 属性熵:' +str(columnEntropy))\n",
    "        colValues = set()\n",
    "        for row in rows:\n",
    "            colValues.add(row[col])\n",
    "        for value in colValues:\n",
    "            (set1, set2) = divideSet(rows, col, value)\n",
    "            p = float(len(set1)) / len(rows)\n",
    "            nextImpurity = (p * impurity(set1)) + ((1 - p) * impurity(set2))\n",
    "            gain = currentImpurity - nextImpurity\n",
    "            if gainRatio:\n",
    "                gain = gain / columnEntropy                \n",
    "            if gain > bestGain and len(set1) > 0 and len(set2) > 0:\n",
    "                bestGain = gain\n",
    "                bestCriteria = (col, value)\n",
    "                bestSets = (set1, set2)\n",
    "    if bestGain > 0:\n",
    "        trueBranch = buildTree(rows=bestSets[0], impurity=impurity)\n",
    "        falseBranch = buildTree(rows=bestSets[1], impurity=impurity)\n",
    "        return DecisionNode(col=bestCriteria[0], value=bestCriteria[1], tb=trueBranch, fb=falseBranch)\n",
    "    else:\n",
    "        return DecisionNode(leaf=uniqueCounts(rows,column=-1)) "
   ]
  },
  {
   "cell_type": "markdown",
   "metadata": {},
   "source": [
    "### 1.4 显示树"
   ]
  },
  {
   "cell_type": "code",
   "execution_count": 14,
   "metadata": {},
   "outputs": [],
   "source": [
    "def printTree(node, indent=' '):\n",
    "    if node.leaf != None:\n",
    "        print(str(node.leaf))\n",
    "    else:\n",
    "        print(indent + str(node.col) + ' : ' + str(node.value) + ' ?')\n",
    "        print(indent + 'T ->', printTree(node.tb, indent + ' '))\n",
    "        print(indent + 'F ->', printTree(node.fb, indent + ' '))"
   ]
  },
  {
   "cell_type": "code",
   "execution_count": 15,
   "metadata": {},
   "outputs": [
    {
     "name": "stdout",
     "output_type": "stream",
     "text": [
      "0 属性熵:2.257856063692049\n",
      "1 属性熵:1.9056390622295662\n",
      "2 属性熵:1.0\n",
      "3 属性熵:2.5306390622295662\n",
      " 2 : yes ?\n",
      "  0 : slashdot ?\n",
      "{'None': 2}\n",
      "  T -> None\n",
      "   0 : google ?\n",
      "    1 : UK ?\n",
      "{'Basic': 1}\n",
      "    T -> None\n",
      "{'Premium': 1}\n",
      "    F -> None\n",
      "   T -> None\n",
      "{'Basic': 4}\n",
      "   F -> None\n",
      "  F -> None\n",
      " T -> None\n",
      "  3 : 21 ?\n",
      "   0 : google ?\n",
      "{'Premium': 2}\n",
      "   T -> None\n",
      "    0 : slashdot ?\n",
      "{'None': 1}\n",
      "    T -> None\n",
      "{'Basic': 1}\n",
      "    F -> None\n",
      "   F -> None\n",
      "  T -> None\n",
      "{'None': 4}\n",
      "  F -> None\n",
      " F -> None\n"
     ]
    }
   ],
   "source": [
    "printTree(buildTree(data,gainRatio=True))"
   ]
  },
  {
   "cell_type": "code",
   "execution_count": 16,
   "metadata": {},
   "outputs": [],
   "source": [
    "# 一个分支的总宽度等于所有子宽度之和，没有子分支的话，宽度为1\n",
    "def getWidth(tree):\n",
    "    if tree.tb == None and tree.fb == None:\n",
    "        return 1\n",
    "    return getWidth(tree.tb) + getWidth(tree.fb)\n",
    "def getHeight(tree):\n",
    "    if tree.tb == None and tree.tb == None:\n",
    "        return 0\n",
    "    return max(getHeight(tree.tb), getHeight(tree.fb)) + 1"
   ]
  },
  {
   "cell_type": "code",
   "execution_count": 22,
   "metadata": {},
   "outputs": [],
   "source": [
    "from PIL import Image, ImageDraw\n",
    "\n",
    "def drawNode(draw, node, x, y):\n",
    "    if node.leaf == None:\n",
    "        w1 = getWidth(node.fb) * 100\n",
    "        w2 = getWidth(node.tb) * 100\n",
    "        left = x - (w1+w2)/2\n",
    "        right = x + (w1+w2)/2\n",
    "        draw.text((x-20,y-20), str(node.col)+':'+str(node.value), (0,0,0))\n",
    "        draw.line((x,y, left+w1/2,y+100), fill=(255,0,0))\n",
    "        draw.line((x,y, right-w2/2,y+100), fill=(0,255,0))\n",
    "        drawNode(draw, node.fb, left+w1/2, y+100)\n",
    "        drawNode(draw, node.tb, right-w2/2, y+100)\n",
    "    else:\n",
    "        for item in node.leaf.items():\n",
    "            print('%s:%d'%item)\n",
    "        txt=' \\n'.join(['%s:%d'%v for v in node.leaf.items()])\n",
    "        draw.text((x-20,y),txt,(0,0,0))\n",
    "def drawTree(tree, jpeg='tree.jpg'):\n",
    "    w = getWidth(tree) * 100\n",
    "    h = getHeight(tree) * 100 + 120\n",
    "    image = Image.new('RGB',(w,h),(255,255,255))\n",
    "    draw = ImageDraw.Draw(image)\n",
    "    drawNode(draw, tree, w/2, 20)\n",
    "    image.save(jpeg, 'JPEG')"
   ]
  },
  {
   "cell_type": "code",
   "execution_count": 24,
   "metadata": {},
   "outputs": [
    {
     "name": "stdout",
     "output_type": "stream",
     "text": [
      "None:3\n",
      "Basic:1\n",
      "Basic:4\n",
      "None:3\n",
      "None:1\n",
      "Basic:1\n",
      "Premium:3\n"
     ]
    }
   ],
   "source": [
    "drawTree(buildTree(data,gainRatio=False), jpeg='treeview.jpg')"
   ]
  },
  {
   "cell_type": "code",
   "execution_count": null,
   "metadata": {},
   "outputs": [],
   "source": []
  }
 ],
 "metadata": {
  "kernelspec": {
   "display_name": "Python 3",
   "language": "python",
   "name": "python3"
  },
  "language_info": {
   "codemirror_mode": {
    "name": "ipython",
    "version": 3
   },
   "file_extension": ".py",
   "mimetype": "text/x-python",
   "name": "python",
   "nbconvert_exporter": "python",
   "pygments_lexer": "ipython3",
   "version": "3.7.2"
  }
 },
 "nbformat": 4,
 "nbformat_minor": 2
}
